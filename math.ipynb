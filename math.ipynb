{
 "cells": [
  {
   "attachments": {},
   "cell_type": "markdown",
   "metadata": {},
   "source": [
    "# Python Math\n",
    "\n",
    "Python has a set of built-in math functions, including an extensive math module, that allows you to perform mathematical tasks on numbers.\n",
    "\n",
    "## Built-in Math Functions\n",
    "The `min()` and `max()` functions can be used to find the lowest or highest value in an iterable:\n",
    "\n"
   ]
  },
  {
   "cell_type": "code",
   "execution_count": 1,
   "metadata": {},
   "outputs": [
    {
     "name": "stdout",
     "output_type": "stream",
     "text": [
      "5\n",
      "25\n"
     ]
    }
   ],
   "source": [
    "x = min(5, 10, 25)\n",
    "y = max(5, 10, 25)\n",
    "\n",
    "print(x)\n",
    "print(y)"
   ]
  },
  {
   "attachments": {},
   "cell_type": "markdown",
   "metadata": {},
   "source": [
    "The `abs()` function returns the absolute (`positive`) value of the specified number:\n",
    "\n"
   ]
  },
  {
   "cell_type": "code",
   "execution_count": 2,
   "metadata": {},
   "outputs": [
    {
     "name": "stdout",
     "output_type": "stream",
     "text": [
      "7.25\n"
     ]
    }
   ],
   "source": [
    "x = abs(-7.25)\n",
    "\n",
    "print(x)"
   ]
  },
  {
   "attachments": {},
   "cell_type": "markdown",
   "metadata": {},
   "source": [
    "The `pow(x, y)` function returns the value of x to the power of y (x**y).\n",
    "\n"
   ]
  },
  {
   "cell_type": "code",
   "execution_count": 3,
   "metadata": {},
   "outputs": [
    {
     "name": "stdout",
     "output_type": "stream",
     "text": [
      "64\n"
     ]
    }
   ],
   "source": [
    "x = pow(4, 3)\n",
    "\n",
    "print(x)"
   ]
  },
  {
   "attachments": {},
   "cell_type": "markdown",
   "metadata": {},
   "source": [
    "## The Math Module\n",
    "\n",
    "Python has also a built-in module called `math`, which extends the list of mathematical functions.\n",
    "\n",
    "To use it, you must import the `math` module:"
   ]
  },
  {
   "cell_type": "code",
   "execution_count": 4,
   "metadata": {},
   "outputs": [],
   "source": [
    "import math"
   ]
  },
  {
   "attachments": {},
   "cell_type": "markdown",
   "metadata": {},
   "source": [
    "When you have imported the `math` module, you can start using methods and constants of the module.\n",
    "\n",
    "The` math.sqrt()` method for example, returns the square root of a number:"
   ]
  },
  {
   "cell_type": "code",
   "execution_count": 5,
   "metadata": {},
   "outputs": [
    {
     "name": "stdout",
     "output_type": "stream",
     "text": [
      "8.0\n"
     ]
    }
   ],
   "source": [
    "import math\n",
    "\n",
    "x = math.sqrt(64)\n",
    "\n",
    "print(x)"
   ]
  },
  {
   "attachments": {},
   "cell_type": "markdown",
   "metadata": {},
   "source": [
    "The `math.ceil()` method rounds a number upwards to its nearest integer, and the `math.floor()` method rounds a number downwards to its nearest integer, and returns the result:"
   ]
  },
  {
   "cell_type": "code",
   "execution_count": 8,
   "metadata": {},
   "outputs": [
    {
     "name": "stdout",
     "output_type": "stream",
     "text": [
      "2\n",
      "1\n"
     ]
    }
   ],
   "source": [
    "import math\n",
    "\n",
    "x = math.ceil(1.4)\n",
    "y = math.floor(1.4)\n",
    "\n",
    "print(x) # returns 2\n",
    "print(y) # returns 1"
   ]
  },
  {
   "attachments": {},
   "cell_type": "markdown",
   "metadata": {},
   "source": [
    "The `math.pi` constant, returns the value of PI (3.14...):\n",
    "\n"
   ]
  },
  {
   "cell_type": "code",
   "execution_count": 10,
   "metadata": {},
   "outputs": [
    {
     "data": {
      "text/plain": [
       "3.141592653589793"
      ]
     },
     "execution_count": 10,
     "metadata": {},
     "output_type": "execute_result"
    }
   ],
   "source": [
    "import math\n",
    "\n",
    "x = math.pi\n",
    "x"
   ]
  },
  {
   "attachments": {},
   "cell_type": "markdown",
   "metadata": {},
   "source": [
    "## Math Methods\n",
    "\n",
    "<table class=\"ws-table-all notranslate\" style=\"margin:0\">\n",
    "  <tbody><tr>\n",
    "    <th style=\"width:30%\">Method</th>\n",
    "    <th style=\"width:70%\">Description</th>\n",
    "  </tr>\n",
    "  <tr>\n",
    "    <td><a href=\"ref_math_acos.asp\">math.acos()</a></td>\n",
    "    <td>Returns the arc cosine of a number</td>\n",
    "  </tr>\n",
    "  <tr>\n",
    "    <td><a href=\"ref_math_acosh.asp\">math.acosh()</a></td>\n",
    "    <td>Returns the inverse hyperbolic cosine of a number</td>\n",
    "  </tr>\n",
    "  <tr>\n",
    "    <td><a href=\"ref_math_asin.asp\">math.asin()</a></td>\n",
    "    <td>Returns the arc sine of a number</td>\n",
    "  </tr>\n",
    "  <tr>\n",
    "    <td><a href=\"ref_math_asinh.asp\">math.asinh()</a></td>\n",
    "    <td>Returns the inverse hyperbolic sine of a number</td>\n",
    "  </tr>\n",
    "  <tr>\n",
    "    <td><a href=\"ref_math_atan.asp\">math.atan()</a></td>\n",
    "    <td>Returns the arc tangent of a number in radians</td>\n",
    "  </tr>\n",
    "  <tr>\n",
    "    <td><a href=\"ref_math_atan2.asp\">math.atan2()</a></td>\n",
    "    <td>Returns the arc tangent of y/x in radians </td>\n",
    "  </tr>\n",
    "  <tr>\n",
    "    <td><a href=\"ref_math_atanh.asp\">math.atanh()</a></td>\n",
    "    <td>Returns the inverse hyperbolic tangent of a number</td>\n",
    "  </tr>\n",
    "  <tr>\n",
    "    <td><a href=\"ref_math_ceil.asp\">math.ceil()</a></td>\n",
    "    <td>Rounds a number up to the nearest integer</td>\n",
    "  </tr>\n",
    "   <tr>\n",
    "    <td><a href=\"ref_math_comb.asp\">math.comb()</a></td>\n",
    "    <td>Returns the number of ways to choose k items from n items without repetition and order</td>\n",
    "  </tr>\n",
    " <tr>\n",
    "    <td><a href=\"ref_math_copysign.asp\">math.copysign()</a></td>\n",
    "    <td>Returns a float consisting of the value of the first parameter and the sign of the second parameter</td>\n",
    "  </tr>\n",
    "  <tr>\n",
    "    <td><a href=\"ref_math_cos.asp\">math.cos()</a></td>\n",
    "    <td>Returns the cosine of a number</td>\n",
    "  </tr>\n",
    "  <tr>\n",
    "    <td><a href=\"ref_math_cosh.asp\">math.cosh()</a></td>\n",
    "    <td>Returns the hyperbolic cosine of a number</td>\n",
    " </tr>\n",
    "  <tr>\n",
    "    <td><a href=\"ref_math_degrees.asp\">math.degrees()</a></td>\n",
    "    <td>Converts an angle from radians to degrees</td>\n",
    " </tr>\n",
    "  <tr>\n",
    "    <td><a href=\"ref_math_dist.asp\">math.dist()</a></td>\n",
    "    <td>Returns the Euclidean distance between two points (p and q), where p and \n",
    "    q are the coordinates of that point</td>\n",
    " </tr>\n",
    "  <tr>\n",
    "    <td><a href=\"ref_math_erf.asp\">math.erf()</a></td>\n",
    "    <td>Returns the error function of a number</td>\n",
    " </tr>\n",
    "  <tr>\n",
    "    <td><a href=\"ref_math_erfc.asp\">math.erfc()</a></td>\n",
    "    <td>Returns the complementary error function of a number</td>\n",
    " </tr>\n",
    "  <tr>\n",
    "    <td><a href=\"ref_math_exp.asp\">math.exp()</a></td>\n",
    "    <td>Returns E raised to the power of x</td>\n",
    " </tr>\n",
    "  <tr>\n",
    "    <td><a href=\"ref_math_expm1.asp\">math.expm1()</a></td>\n",
    "    <td>Returns E<sup>x</sup> \n",
    "    - 1</td>\n",
    " </tr>\n",
    "  <tr>\n",
    "    <td><a href=\"ref_math_fabs.asp\">math.fabs()</a></td>\n",
    "    <td>Returns the absolute value of a number</td>\n",
    "  </tr>\n",
    "  <tr>\n",
    "    <td><a href=\"ref_math_factorial.asp\">math.factorial()</a></td>\n",
    "    <td>Returns the factorial of a number</td>\n",
    "  </tr>\n",
    "  <tr>\n",
    "    <td><a href=\"ref_math_floor.asp\">math.floor()</a></td>\n",
    "    <td>Rounds a number down to the nearest integer</td>\n",
    "  </tr>\n",
    "  <tr>\n",
    "    <td><a href=\"ref_math_fmod.asp\">math.fmod()</a></td>\n",
    "    <td>Returns the remainder of x/y</td>\n",
    "  </tr>\n",
    "  <tr>\n",
    "    <td><a href=\"ref_math_frexp.asp\">math.frexp()</a></td>\n",
    "    <td>Returns the mantissa and the exponent, of a specified number</td>\n",
    "  </tr>\n",
    "  <tr>\n",
    "    <td><a href=\"ref_math_fsum.asp\">math.fsum()</a></td>\n",
    "    <td>Returns the sum of all items in any iterable (tuples, arrays, lists, etc.)</td>\n",
    "  </tr>\n",
    "  <tr>\n",
    "    <td><a href=\"ref_math_gamma.asp\">math.gamma()</a></td>\n",
    "    <td>Returns the gamma function at x</td>\n",
    " </tr>\n",
    "  <tr>\n",
    "    <td><a href=\"ref_math_gcd.asp\">math.gcd()</a></td>\n",
    "    <td>Returns the greatest common divisor of two integers</td>\n",
    "  </tr>\n",
    "  <tr>\n",
    "    <td><a href=\"ref_math_hypot.asp\">math.hypot()</a></td>\n",
    "    <td>Returns the Euclidean norm</td>\n",
    " </tr>\n",
    "  <tr>\n",
    "    <td><a href=\"ref_math_isclose.asp\">math.isclose()</a></td>\n",
    "    <td>Checks whether two values are close to each other, or not</td>\n",
    " </tr>\n",
    "  <tr>\n",
    "    <td><a href=\"ref_math_isfinite.asp\">math.isfinite()</a></td>\n",
    "    <td>Checks whether a number is finite or not</td>\n",
    " </tr>\n",
    "  <tr>\n",
    "    <td><a href=\"ref_math_isinf.asp\">math.isinf()</a></td>\n",
    "    <td>Checks whether a number is infinite or not</td>\n",
    " </tr>\n",
    "   <tr>\n",
    "    <td><a href=\"ref_math_isnan.asp\">math.isnan()</a></td>\n",
    "    <td>Checks whether a value is NaN (not a number) or not</td>\n",
    " </tr>\n",
    "  <tr>\n",
    "    <td><a href=\"ref_math_isqrt.asp\">math.isqrt()</a></td>\n",
    "    <td>Rounds a square root number downwards to the nearest integer</td>\n",
    " </tr>\n",
    "  <tr>\n",
    "    <td><a href=\"ref_math_ldexp.asp\">math.ldexp()</a></td>\n",
    "    <td>Returns the inverse of <a href=\"ref_math_frexp.asp\">math.frexp()</a> \n",
    "    which is x * (2**i) of the given numbers x and i</td>\n",
    " </tr>\n",
    "  <tr>\n",
    "    <td><a href=\"ref_math_lgamma.asp\">math.lgamma()</a></td>\n",
    "    <td>Returns the log gamma value of x</td>\n",
    " </tr>\n",
    " <tr>\n",
    "    <td><a href=\"ref_math_log.asp\">math.log()</a></td>\n",
    "    <td>Returns the natural logarithm of a number, or the logarithm of number to base</td>\n",
    "</tr>\n",
    "  <tr>\n",
    "    <td><a href=\"ref_math_log10.asp\">math.log10()</a></td>\n",
    "    <td>Returns the base-10 logarithm of x</td>\n",
    " </tr>\n",
    "  <tr>\n",
    "    <td><a href=\"ref_math_log1p.asp\">math.log1p()</a></td>\n",
    "    <td>Returns the natural logarithm of 1+x</td>\n",
    " </tr>\n",
    "  <tr>\n",
    "    <td><a href=\"ref_math_log2.asp\">math.log2()</a></td>\n",
    "    <td>Returns the base-2 logarithm of x</td>\n",
    " </tr>\n",
    "   <tr>\n",
    "    <td><a href=\"ref_math_perm.asp\">math.perm()</a></td>\n",
    "    <td>Returns the number of ways to choose k items from n items with order and without repetition</td>\n",
    " </tr>\n",
    " <tr>\n",
    "    <td><a href=\"ref_math_pow.asp\">math.pow()</a></td>\n",
    "    <td>Returns the value of x to the power of y</td>\n",
    "  </tr>\n",
    " <tr>\n",
    "    <td><a href=\"ref_math_prod.asp\">math.prod()</a></td>\n",
    "    <td>Returns the product of all the elements in an iterable</td>\n",
    "  </tr>\n",
    "  <tr>\n",
    "    <td><a href=\"ref_math_radians.asp\">math.radians()</a></td>\n",
    "    <td>Converts a degree value into radians</td>\n",
    "  </tr>\n",
    "  <tr>\n",
    "    <td><a href=\"ref_math_remainder.asp\">math.remainder()</a></td>\n",
    "    <td>Returns the closest value that can make numerator completely divisible by the denominator</td>\n",
    "  </tr>\n",
    "  <tr>\n",
    "    <td><a href=\"ref_math_sin.asp\">math.sin()</a></td>\n",
    "    <td>Returns the sine of a number</td>\n",
    " </tr>\n",
    "  <tr>\n",
    "    <td><a href=\"ref_math_sinh.asp\">math.sinh()</a></td>\n",
    "    <td>Returns the hyperbolic sine of a number</td>\n",
    " </tr>\n",
    "  <tr>\n",
    "    <td><a href=\"ref_math_sqrt.asp\">math.sqrt()</a></td>\n",
    "    <td>Returns the square root of a number</td>\n",
    "  </tr>\n",
    "  <tr>\n",
    "    <td><a href=\"ref_math_tan.asp\">math.tan()</a></td>\n",
    "    <td>Returns the tangent of a number</td>\n",
    "  </tr>\n",
    "  <tr>\n",
    "    <td><a href=\"ref_math_tanh.asp\">math.tanh()</a></td>\n",
    "    <td>Returns the hyperbolic tangent of a number</td>\n",
    " </tr>\n",
    "  <tr>\n",
    "    <td><a href=\"ref_math_trunc.asp\">math.trunc()</a></td>\n",
    "    <td>Returns the truncated integer parts of a number</td>\n",
    " </tr>\n",
    "</tbody>\n",
    "</table>"
   ]
  },
  {
   "attachments": {},
   "cell_type": "markdown",
   "metadata": {},
   "source": [
    "## Math Constants\n",
    "<table class=\"ws-table-all notranslate\" style=\"margin:0\">\n",
    "  <tbody><tr>\n",
    "    <th style=\"width:30%\">Constant</th>\n",
    "    <th style=\"width:70%\">Description</th>\n",
    "  </tr>\n",
    "  <tr>\n",
    "    <td><a href=\"ref_math_e.asp\">math.e</a></td>\n",
    "    <td>Returns Euler's number (2.7182...)</td>\n",
    " </tr>\n",
    "   <tr>\n",
    "    <td><a href=\"ref_math_inf.asp\">math.inf</a></td>\n",
    "    <td>Returns a floating-point positive infinity</td>\n",
    " </tr>\n",
    " <tr>\n",
    "    <td><a href=\"ref_math_nan.asp\">math.nan</a></td>\n",
    "    <td>Returns a floating-point NaN (Not a Number) value</td>\n",
    " </tr>\n",
    "  <tr>\n",
    "    <td><a href=\"ref_math_pi.asp\">math.pi</a></td>\n",
    "    <td>Returns PI (3.1415...)</td>\n",
    " </tr>\n",
    "  <tr>\n",
    "    <td><a href=\"ref_math_tau.asp\">math.tau</a></td>\n",
    "    <td>Returns tau (6.2831...)</td>\n",
    " </tr>\n",
    "</tbody>\n",
    "</table>"
   ]
  },
  {
   "cell_type": "code",
   "execution_count": 13,
   "metadata": {},
   "outputs": [
    {
     "name": "stdout",
     "output_type": "stream",
     "text": [
      "2.718281828459045\n",
      "inf\n",
      "nan\n",
      "3.141592653589793\n",
      "6.283185307179586\n"
     ]
    }
   ],
   "source": [
    "print(math.e)\n",
    "print(math.inf)\n",
    "print(math.nan)\n",
    "print(math.pi)\n",
    "print(math.tau)"
   ]
  },
  {
   "attachments": {},
   "cell_type": "markdown",
   "metadata": {},
   "source": [
    "\n",
    "Arccosine is one of the inverse trigonometric functions and it is also written as `cos-1`. Since `cos-1(x)` is the inverse of `cos(x)`, `arccosine (x)` is the inverse function of `cos x`. We have `6` inverse trigonometric functions such as. `arcsin = inverse of sin = sin-1. arccos = inverse of cos = cos-1`\n",
    "\n",
    "<ul>\n",
    "\t<li>arcsin = inverse of sin = sin<sup>-1</sup></li>\n",
    "\t<li>arccos = inverse of cos = cos<sup>-1</sup></li>\n",
    "\t<li>arctan = inverse of tan = tan<sup>-1</sup></li>\n",
    "\t<li>arccsc = inverse of csc = csc<sup>-1</sup></li>\n",
    "\t<li>arcsec = inverse of sec = sec<sup>-1</sup></li>\n",
    "\t<li>arccot = inverse of cot = cot<sup>-1</sup></li>\n",
    "</ul>\n",
    "\n",
    "## math.acos()\n",
    "\n",
    "<img alt=\"Arccosine or arc cos or cos -1 definition\" src=\"https://d138zd1ktt9iqe.cloudfront.net/media/seo_landing_files/arccosine-formula-1-1628523815.png\" style=\"width: 400px; background-color: white;\">"
   ]
  },
  {
   "cell_type": "code",
   "execution_count": 11,
   "metadata": {},
   "outputs": [
    {
     "name": "stdout",
     "output_type": "stream",
     "text": [
      "0.9884320889261531\n",
      "2.15316056466364\n",
      "1.5707963267948966\n",
      "0.0\n",
      "3.141592653589793\n"
     ]
    }
   ],
   "source": [
    "# Return the arc cosine of numbers\n",
    "print(math.acos(0.55))\n",
    "print(math.acos(-0.55))\n",
    "print(math.acos(0))\n",
    "print(math.acos(1))\n",
    "print(math.acos(-1))"
   ]
  }
 ],
 "metadata": {
  "kernelspec": {
   "display_name": "env",
   "language": "python",
   "name": "python3"
  },
  "language_info": {
   "codemirror_mode": {
    "name": "ipython",
    "version": 3
   },
   "file_extension": ".py",
   "mimetype": "text/x-python",
   "name": "python",
   "nbconvert_exporter": "python",
   "pygments_lexer": "ipython3",
   "version": "3.10.6"
  },
  "orig_nbformat": 4
 },
 "nbformat": 4,
 "nbformat_minor": 2
}
